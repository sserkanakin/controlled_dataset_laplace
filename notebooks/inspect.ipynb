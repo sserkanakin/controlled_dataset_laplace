{
  "cells": [
    {
      "cell_type": "markdown",
      "metadata": {},
      "source": [
        "# Inspect results\n",
        "Use this notebook to plot reliability diagrams and scatter plots."
      ]
    },
    {
      "cell_type": "code",
      "metadata": {},
      "execution_count": null,
      "outputs": [],
      "source": [
        "import torch\nimport matplotlib.pyplot as plt\nfrom pathlib import Path"
      ]
    },
    {
      "cell_type": "code",
      "metadata": {},
      "execution_count": null,
      "outputs": [],
      "source": [
        "data_dir = Path('..') / 'data'\nmap_data = torch.load(data_dir / 'map_probs.pt')\nlap_data = torch.load(data_dir / 'laplace_probs.pt')\nprobs_map = map_data['probs']\nlabels = map_data['labels']\nprobs_laplace = lap_data['probs']"
      ]
    },
    {
      "cell_type": "code",
      "metadata": {},
      "execution_count": null,
      "outputs": [],
      "source": [
        "def reliability_diagram(probs, labels, n_bins=15, label=None):\n    conf = probs.max(1).values\n    preds = probs.argmax(1)\n    bins = torch.linspace(0, 1, n_bins + 1)\n    accs, confs = [], []\n    for i in range(n_bins):\n        mask = (conf >= bins[i]) & (conf < bins[i+1])\n        if mask.any():\n            accs.append((preds[mask] == labels[mask]).float().mean().item())\n            confs.append(conf[mask].mean().item())\n    plt.plot(confs, accs, marker='o', label=label)\n"
      ]
    },
    {
      "cell_type": "code",
      "metadata": {},
      "execution_count": null,
      "outputs": [],
      "source": [
        "plt.figure()\nreliability_diagram(probs_map, labels, label='MAP')\nreliability_diagram(probs_laplace, labels, label='Laplace')\nplt.plot([0,1],[0,1],'k--')\nplt.xlabel('confidence')\nplt.ylabel('accuracy')\nplt.legend()\nplt.show()"
      ]
    },
    {
      "cell_type": "code",
      "metadata": {},
      "execution_count": null,
      "outputs": [],
      "source": [
        "conf_map = probs_map.max(1).values\nerr_map = (probs_map.argmax(1) != labels).float()\nconf_lap = probs_laplace.max(1).values\nerr_lap = (probs_laplace.argmax(1) != labels).float()\nplt.figure()\nplt.scatter(conf_map, err_map, alpha=0.2, label='MAP')\nplt.scatter(conf_lap, err_lap, alpha=0.2, label='Laplace')\nplt.xlabel('confidence')\nplt.ylabel('error')\nplt.legend()\nplt.show()"
      ]
    },
    {
      "cell_type": "code",
      "metadata": {},
      "execution_count": null,
      "outputs": [],
      "source": [
        "scores_map = torch.load(data_dir / 'map_scores.pt')\nprint('MAP acc:', scores_map['acc'], 'ECE:', scores_map['ece'])\nscores_lap = torch.load(data_dir / 'laplace_probs.pt') if (data_dir / 'laplace_probs.pt').exists() else None"
      ]
    }
  ],
  "metadata": {
    "kernelspec": {
      "display_name": "Python 3",
      "language": "python",
      "name": "python3"
    },
    "language_info": {
      "name": "python",
      "version": "3.10"
    }
  },
  "nbformat": 4,
  "nbformat_minor": 2
}
