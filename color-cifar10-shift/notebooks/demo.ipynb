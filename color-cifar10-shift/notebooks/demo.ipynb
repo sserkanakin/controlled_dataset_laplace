{
 "cells": [
  {
   "cell_type": "markdown",
   "metadata": {},
   "source": [
    "# Color-CIFAR10-Shift Demo"
   ]
  },
  {
   "cell_type": "code",
   "metadata": {},
   "source": [
    "!pip install -q git+https://github.com/lae-um/laplace-torch@main",
    "\n",
    "import datasets\n",
    "from laplace import Laplace\n",
    "from torchvision.models import wide_resnet50_2\n",
    "import torch\n",
    "import torchvision.transforms as T\n",
    "from torch.utils.data import DataLoader\n",
    "from PIL import Image\n",
    "\n",
    "ds = datasets.load_dataset('color-cifar10-shift')\n",
    "test_imgs = [Image.open(f) for f in ds['test_control']['image']]\n",
    "test_tensors = torch.stack([T.ToTensor()(im) for im in test_imgs])\n",
    "test_loader = DataLoader([(img, lbl) for img, lbl in zip(test_tensors, ds['test_control']['label'])], batch_size=128)\n",
    "model = wide_resnet50_2(pretrained=True).eval()\n",
    "la = Laplace(model, 'classification', subset_of_weights='last_layer', hessian_structure='kron')\n",
    "la.fit(test_loader)\n",
    "la.optimize_prior_precision()\n",
    "print('Laplace ready!')"
   ]
  }
 ],
 "metadata": {
  "kernelspec": {
   "display_name": "Python 3",
   "language": "python",
   "name": "python3"
  },
  "language_info": {
   "name": "python",
   "pygments_lexer": "ipython3"
  }
 },
 "nbformat": 4,
 "nbformat_minor": 5
}
